{
 "cells": [
  {
   "cell_type": "markdown",
   "metadata": {},
   "source": [
    "# Predict Credit Default"
   ]
  },
  {
   "cell_type": "code",
   "execution_count": 1,
   "metadata": {},
   "outputs": [],
   "source": [
    "import pandas as pd\n",
    "import numpy as np\n",
    "import matplotlib.pyplot as plt\n",
    "\n",
    "from sklearn.ensemble import GradientBoostingRegressor\n",
    "from sklearn.metrics import r2_score\n",
    "\n",
    "from sklearn.model_selection import train_test_split\n",
    "from sklearn.linear_model import LogisticRegression\n",
    "from sklearn.ensemble import RandomForestClassifier\n",
    "\n",
    "%matplotlib inline"
   ]
  },
  {
   "cell_type": "code",
   "execution_count": 2,
   "metadata": {},
   "outputs": [],
   "source": [
    "df = pd.read_csv('../data/hmeq.csv')"
   ]
  },
  {
   "cell_type": "code",
   "execution_count": 3,
   "metadata": {},
   "outputs": [
    {
     "data": {
      "text/html": [
       "<div>\n",
       "<style scoped>\n",
       "    .dataframe tbody tr th:only-of-type {\n",
       "        vertical-align: middle;\n",
       "    }\n",
       "\n",
       "    .dataframe tbody tr th {\n",
       "        vertical-align: top;\n",
       "    }\n",
       "\n",
       "    .dataframe thead th {\n",
       "        text-align: right;\n",
       "    }\n",
       "</style>\n",
       "<table border=\"1\" class=\"dataframe\">\n",
       "  <thead>\n",
       "    <tr style=\"text-align: right;\">\n",
       "      <th></th>\n",
       "      <th>BAD</th>\n",
       "      <th>LOAN</th>\n",
       "      <th>MORTDUE</th>\n",
       "      <th>VALUE</th>\n",
       "      <th>REASON</th>\n",
       "      <th>JOB</th>\n",
       "      <th>YOJ</th>\n",
       "      <th>DEROG</th>\n",
       "      <th>DELINQ</th>\n",
       "      <th>CLAGE</th>\n",
       "      <th>NINQ</th>\n",
       "      <th>CLNO</th>\n",
       "      <th>DEBTINC</th>\n",
       "    </tr>\n",
       "  </thead>\n",
       "  <tbody>\n",
       "    <tr>\n",
       "      <th>0</th>\n",
       "      <td>1</td>\n",
       "      <td>1100</td>\n",
       "      <td>25860.0</td>\n",
       "      <td>39025.0</td>\n",
       "      <td>HomeImp</td>\n",
       "      <td>Other</td>\n",
       "      <td>10.5</td>\n",
       "      <td>0.0</td>\n",
       "      <td>0.0</td>\n",
       "      <td>94.366667</td>\n",
       "      <td>1.0</td>\n",
       "      <td>9.0</td>\n",
       "      <td>NaN</td>\n",
       "    </tr>\n",
       "    <tr>\n",
       "      <th>1</th>\n",
       "      <td>1</td>\n",
       "      <td>1300</td>\n",
       "      <td>70053.0</td>\n",
       "      <td>68400.0</td>\n",
       "      <td>HomeImp</td>\n",
       "      <td>Other</td>\n",
       "      <td>7.0</td>\n",
       "      <td>0.0</td>\n",
       "      <td>2.0</td>\n",
       "      <td>121.833333</td>\n",
       "      <td>0.0</td>\n",
       "      <td>14.0</td>\n",
       "      <td>NaN</td>\n",
       "    </tr>\n",
       "    <tr>\n",
       "      <th>2</th>\n",
       "      <td>1</td>\n",
       "      <td>1500</td>\n",
       "      <td>13500.0</td>\n",
       "      <td>16700.0</td>\n",
       "      <td>HomeImp</td>\n",
       "      <td>Other</td>\n",
       "      <td>4.0</td>\n",
       "      <td>0.0</td>\n",
       "      <td>0.0</td>\n",
       "      <td>149.466667</td>\n",
       "      <td>1.0</td>\n",
       "      <td>10.0</td>\n",
       "      <td>NaN</td>\n",
       "    </tr>\n",
       "    <tr>\n",
       "      <th>3</th>\n",
       "      <td>1</td>\n",
       "      <td>1500</td>\n",
       "      <td>NaN</td>\n",
       "      <td>NaN</td>\n",
       "      <td>NaN</td>\n",
       "      <td>NaN</td>\n",
       "      <td>NaN</td>\n",
       "      <td>NaN</td>\n",
       "      <td>NaN</td>\n",
       "      <td>NaN</td>\n",
       "      <td>NaN</td>\n",
       "      <td>NaN</td>\n",
       "      <td>NaN</td>\n",
       "    </tr>\n",
       "    <tr>\n",
       "      <th>4</th>\n",
       "      <td>0</td>\n",
       "      <td>1700</td>\n",
       "      <td>97800.0</td>\n",
       "      <td>112000.0</td>\n",
       "      <td>HomeImp</td>\n",
       "      <td>Office</td>\n",
       "      <td>3.0</td>\n",
       "      <td>0.0</td>\n",
       "      <td>0.0</td>\n",
       "      <td>93.333333</td>\n",
       "      <td>0.0</td>\n",
       "      <td>14.0</td>\n",
       "      <td>NaN</td>\n",
       "    </tr>\n",
       "  </tbody>\n",
       "</table>\n",
       "</div>"
      ],
      "text/plain": [
       "   BAD  LOAN  MORTDUE     VALUE   REASON     JOB   YOJ  DEROG  DELINQ  \\\n",
       "0    1  1100  25860.0   39025.0  HomeImp   Other  10.5    0.0     0.0   \n",
       "1    1  1300  70053.0   68400.0  HomeImp   Other   7.0    0.0     2.0   \n",
       "2    1  1500  13500.0   16700.0  HomeImp   Other   4.0    0.0     0.0   \n",
       "3    1  1500      NaN       NaN      NaN     NaN   NaN    NaN     NaN   \n",
       "4    0  1700  97800.0  112000.0  HomeImp  Office   3.0    0.0     0.0   \n",
       "\n",
       "        CLAGE  NINQ  CLNO  DEBTINC  \n",
       "0   94.366667   1.0   9.0      NaN  \n",
       "1  121.833333   0.0  14.0      NaN  \n",
       "2  149.466667   1.0  10.0      NaN  \n",
       "3         NaN   NaN   NaN      NaN  \n",
       "4   93.333333   0.0  14.0      NaN  "
      ]
     },
     "execution_count": 3,
     "metadata": {},
     "output_type": "execute_result"
    }
   ],
   "source": [
    "df.head(5)"
   ]
  },
  {
   "cell_type": "code",
   "execution_count": 4,
   "metadata": {},
   "outputs": [
    {
     "name": "stderr",
     "output_type": "stream",
     "text": [
      "C:\\Users\\srema\\AppData\\Local\\Continuum\\anaconda3\\lib\\site-packages\\numpy\\lib\\histograms.py:839: RuntimeWarning: invalid value encountered in greater_equal\n",
      "  keep = (tmp_a >= first_edge)\n",
      "C:\\Users\\srema\\AppData\\Local\\Continuum\\anaconda3\\lib\\site-packages\\numpy\\lib\\histograms.py:840: RuntimeWarning: invalid value encountered in less_equal\n",
      "  keep &= (tmp_a <= last_edge)\n"
     ]
    },
    {
     "data": {
      "text/plain": [
       "(array([ 456.,  415.,  696., 1003., 1093.,  629.,  596.,  394.,  148.,\n",
       "          15.]),\n",
       " array([0.        , 0.64031242, 1.28062485, 1.92093727, 2.56124969,\n",
       "        3.20156212, 3.84187454, 4.48218697, 5.12249939, 5.76281181,\n",
       "        6.40312424]),\n",
       " <a list of 10 Patch objects>)"
      ]
     },
     "execution_count": 4,
     "metadata": {},
     "output_type": "execute_result"
    },
    {
     "data": {
      "image/png": "[encoded data removed]",
      "text/plain": [
       "<Figure size 432x288 with 1 Axes>"
      ]
     },
     "metadata": {
      "needs_background": "light"
     },
     "output_type": "display_data"
    }
   ],
   "source": [
    "plt.hist(np.sqrt(df['YOJ']))"
   ]
  },
  {
   "cell_type": "code",
   "execution_count": 5,
   "metadata": {},
   "outputs": [
    {
     "data": {
      "text/html": [
       "<div>\n",
       "<style scoped>\n",
       "    .dataframe tbody tr th:only-of-type {\n",
       "        vertical-align: middle;\n",
       "    }\n",
       "\n",
       "    .dataframe tbody tr th {\n",
       "        vertical-align: top;\n",
       "    }\n",
       "\n",
       "    .dataframe thead th {\n",
       "        text-align: right;\n",
       "    }\n",
       "</style>\n",
       "<table border=\"1\" class=\"dataframe\">\n",
       "  <thead>\n",
       "    <tr style=\"text-align: right;\">\n",
       "      <th></th>\n",
       "      <th>BAD</th>\n",
       "      <th>LOAN</th>\n",
       "      <th>MORTDUE</th>\n",
       "      <th>VALUE</th>\n",
       "      <th>YOJ</th>\n",
       "      <th>DEROG</th>\n",
       "      <th>DELINQ</th>\n",
       "      <th>CLAGE</th>\n",
       "      <th>NINQ</th>\n",
       "      <th>CLNO</th>\n",
       "      <th>DEBTINC</th>\n",
       "    </tr>\n",
       "  </thead>\n",
       "  <tbody>\n",
       "    <tr>\n",
       "      <th>count</th>\n",
       "      <td>5960.000000</td>\n",
       "      <td>5960.000000</td>\n",
       "      <td>5442.000000</td>\n",
       "      <td>5848.000000</td>\n",
       "      <td>5445.000000</td>\n",
       "      <td>5252.000000</td>\n",
       "      <td>5380.000000</td>\n",
       "      <td>5652.000000</td>\n",
       "      <td>5450.000000</td>\n",
       "      <td>5738.000000</td>\n",
       "      <td>4693.000000</td>\n",
       "    </tr>\n",
       "    <tr>\n",
       "      <th>mean</th>\n",
       "      <td>0.199497</td>\n",
       "      <td>18607.969799</td>\n",
       "      <td>73760.817200</td>\n",
       "      <td>101776.048741</td>\n",
       "      <td>8.922268</td>\n",
       "      <td>0.254570</td>\n",
       "      <td>0.449442</td>\n",
       "      <td>179.766275</td>\n",
       "      <td>1.186055</td>\n",
       "      <td>21.296096</td>\n",
       "      <td>33.779915</td>\n",
       "    </tr>\n",
       "    <tr>\n",
       "      <th>std</th>\n",
       "      <td>0.399656</td>\n",
       "      <td>11207.480417</td>\n",
       "      <td>44457.609458</td>\n",
       "      <td>57385.775334</td>\n",
       "      <td>7.573982</td>\n",
       "      <td>0.846047</td>\n",
       "      <td>1.127266</td>\n",
       "      <td>85.810092</td>\n",
       "      <td>1.728675</td>\n",
       "      <td>10.138933</td>\n",
       "      <td>8.601746</td>\n",
       "    </tr>\n",
       "    <tr>\n",
       "      <th>min</th>\n",
       "      <td>0.000000</td>\n",
       "      <td>1100.000000</td>\n",
       "      <td>2063.000000</td>\n",
       "      <td>8000.000000</td>\n",
       "      <td>0.000000</td>\n",
       "      <td>0.000000</td>\n",
       "      <td>0.000000</td>\n",
       "      <td>0.000000</td>\n",
       "      <td>0.000000</td>\n",
       "      <td>0.000000</td>\n",
       "      <td>0.524499</td>\n",
       "    </tr>\n",
       "    <tr>\n",
       "      <th>25%</th>\n",
       "      <td>0.000000</td>\n",
       "      <td>11100.000000</td>\n",
       "      <td>46276.000000</td>\n",
       "      <td>66075.500000</td>\n",
       "      <td>3.000000</td>\n",
       "      <td>0.000000</td>\n",
       "      <td>0.000000</td>\n",
       "      <td>115.116702</td>\n",
       "      <td>0.000000</td>\n",
       "      <td>15.000000</td>\n",
       "      <td>29.140031</td>\n",
       "    </tr>\n",
       "    <tr>\n",
       "      <th>50%</th>\n",
       "      <td>0.000000</td>\n",
       "      <td>16300.000000</td>\n",
       "      <td>65019.000000</td>\n",
       "      <td>89235.500000</td>\n",
       "      <td>7.000000</td>\n",
       "      <td>0.000000</td>\n",
       "      <td>0.000000</td>\n",
       "      <td>173.466667</td>\n",
       "      <td>1.000000</td>\n",
       "      <td>20.000000</td>\n",
       "      <td>34.818262</td>\n",
       "    </tr>\n",
       "    <tr>\n",
       "      <th>75%</th>\n",
       "      <td>0.000000</td>\n",
       "      <td>23300.000000</td>\n",
       "      <td>91488.000000</td>\n",
       "      <td>119824.250000</td>\n",
       "      <td>13.000000</td>\n",
       "      <td>0.000000</td>\n",
       "      <td>0.000000</td>\n",
       "      <td>231.562278</td>\n",
       "      <td>2.000000</td>\n",
       "      <td>26.000000</td>\n",
       "      <td>39.003141</td>\n",
       "    </tr>\n",
       "    <tr>\n",
       "      <th>max</th>\n",
       "      <td>1.000000</td>\n",
       "      <td>89900.000000</td>\n",
       "      <td>399550.000000</td>\n",
       "      <td>855909.000000</td>\n",
       "      <td>41.000000</td>\n",
       "      <td>10.000000</td>\n",
       "      <td>15.000000</td>\n",
       "      <td>1168.233561</td>\n",
       "      <td>17.000000</td>\n",
       "      <td>71.000000</td>\n",
       "      <td>203.312149</td>\n",
       "    </tr>\n",
       "  </tbody>\n",
       "</table>\n",
       "</div>"
      ],
      "text/plain": [
       "               BAD          LOAN        MORTDUE          VALUE          YOJ  \\\n",
       "count  5960.000000   5960.000000    5442.000000    5848.000000  5445.000000   \n",
       "mean      0.199497  18607.969799   73760.817200  101776.048741     8.922268   \n",
       "std       0.399656  11207.480417   44457.609458   57385.775334     7.573982   \n",
       "min       0.000000   1100.000000    2063.000000    8000.000000     0.000000   \n",
       "25%       0.000000  11100.000000   46276.000000   66075.500000     3.000000   \n",
       "50%       0.000000  16300.000000   65019.000000   89235.500000     7.000000   \n",
       "75%       0.000000  23300.000000   91488.000000  119824.250000    13.000000   \n",
       "max       1.000000  89900.000000  399550.000000  855909.000000    41.000000   \n",
       "\n",
       "             DEROG       DELINQ        CLAGE         NINQ         CLNO  \\\n",
       "count  5252.000000  5380.000000  5652.000000  5450.000000  5738.000000   \n",
       "mean      0.254570     0.449442   179.766275     1.186055    21.296096   \n",
       "std       0.846047     1.127266    85.810092     1.728675    10.138933   \n",
       "min       0.000000     0.000000     0.000000     0.000000     0.000000   \n",
       "25%       0.000000     0.000000   115.116702     0.000000    15.000000   \n",
       "50%       0.000000     0.000000   173.466667     1.000000    20.000000   \n",
       "75%       0.000000     0.000000   231.562278     2.000000    26.000000   \n",
       "max      10.000000    15.000000  1168.233561    17.000000    71.000000   \n",
       "\n",
       "           DEBTINC  \n",
       "count  4693.000000  \n",
       "mean     33.779915  \n",
       "std       8.601746  \n",
       "min       0.524499  \n",
       "25%      29.140031  \n",
       "50%      34.818262  \n",
       "75%      39.003141  \n",
       "max     203.312149  "
      ]
     },
     "execution_count": 5,
     "metadata": {},
     "output_type": "execute_result"
    }
   ],
   "source": [
    "df.describe()"
   ]
  },
  {
   "cell_type": "code",
   "execution_count": 6,
   "metadata": {},
   "outputs": [
    {
     "data": {
      "text/plain": [
       "BAD           0\n",
       "LOAN          0\n",
       "MORTDUE     518\n",
       "VALUE       112\n",
       "REASON      252\n",
       "JOB         279\n",
       "YOJ         515\n",
       "DEROG       708\n",
       "DELINQ      580\n",
       "CLAGE       308\n",
       "NINQ        510\n",
       "CLNO        222\n",
       "DEBTINC    1267\n",
       "dtype: int64"
      ]
     },
     "execution_count": 6,
     "metadata": {},
     "output_type": "execute_result"
    }
   ],
   "source": [
    "df.isna().sum()"
   ]
  },
  {
   "cell_type": "code",
   "execution_count": 7,
   "metadata": {},
   "outputs": [],
   "source": [
    "from sklearn.ensemble import GradientBoostingRegressor\n",
    "from sklearn.metrics import r2_score\n",
    "\n",
    "class DataCleaner:\n",
    "    \n",
    "    def __init__(self, df, predict_nan=True):\n",
    "        \n",
    "        self.df = df.copy()\n",
    "        self.predict_nan = predict_nan\n",
    "        \n",
    "        \n",
    "    def fill_na_model(self, df_train, target):\n",
    "\n",
    "        X = df_train.drop(['BAD', 'DEROG', 'DELINQ'], axis=1)\n",
    "        y = df_train[target]\n",
    "\n",
    "        X_train, X_test, y_train, y_test = train_test_split(X, y, test_size=0.33, random_state=42)\n",
    "\n",
    "        clf = GradientBoostingRegressor(random_state=42)\n",
    "        clf.fit(X_train, y_train)\n",
    "        y_pred = clf.predict(X_test)\n",
    "        r2 = r2_score(y_test, y_pred)\n",
    "\n",
    "        return clf\n",
    "\n",
    "\n",
    "    def predict_na(self, target, clf=None):\n",
    "\n",
    "        df_train = self.df[~self.df[target].isna()]\n",
    "        df_test = self.df[self.df[target].isna()]\n",
    "        df_test_ = df_test.drop(columns=['BAD', 'DEROG', 'DELINQ'], axis=1)\n",
    "\n",
    "        if clf == None:\n",
    "            clf = self.fill_na_model(df_train, target)\n",
    "\n",
    "        y_pred = clf.predict(df_test_)\n",
    "        df_test[target] = y_pred\n",
    "        df_new = pd.concat([df_train, df_test])\n",
    "\n",
    "        return df_new, clf\n",
    "    \n",
    "    \n",
    "    def dummy_replace(self, column, prefix=None):\n",
    "\n",
    "        df_dummy = pd.get_dummies(self.df[column], prefix=prefix)\n",
    "        self.df = pd.concat([self.df, df_dummy], axis=1)\n",
    "        self.df = self.df.drop(columns=[column], axis=1)\n",
    "   \n",
    "\n",
    "    def fill_nan(self): \n",
    "\n",
    "        self.df['MORTDUE'] = self.df['MORTDUE'].fillna(self.df['MORTDUE'].median())\n",
    "        self.df['VALUE'] = self.df['VALUE'].fillna(self.df['VALUE'].median())\n",
    "        self.df['REASON'] = self.df['REASON'].fillna('Unknown')\n",
    "        self.df['JOB'] = self.df['JOB'].fillna('Unknown')\n",
    "        self.df['YOJ'] = self.df['YOJ'].fillna(self.df['YOJ'].median())\n",
    "        self.df['CLAGE'] = self.df['CLAGE'].fillna(self.df['CLAGE'].median())\n",
    "        self.df['NINQ'] = self.df['NINQ'].fillna(self.df['NINQ'].median()) \n",
    "        self.df['CLNO'] = self.df['CLNO'].fillna(self.df['CLNO'].median()) \n",
    "        self.df['DEBTINC'] = self.df['DEBTINC'].fillna(self.df['DEBTINC'].median()) \n",
    "        \n",
    "        if self.predict_nan == False:\n",
    "\n",
    "            self.df['DEROG'] = self.df['DEROG'].fillna(self.df['DEROG'].mean()) \n",
    "            self.df['DELINQ'] = self.df['DELINQ'].fillna(self.df['DELINQ'].mean()) \n",
    "        \n",
    "\n",
    "    def feature_engineering(self):\n",
    "\n",
    "        self.df['LOAN'] = np.log(self.df['LOAN'])\n",
    "        self.df['MORTDUE'] = np.log(self.df['MORTDUE'])\n",
    "        self.df['VALUE'] = np.log(self.df['VALUE'])\n",
    "        self.df['YOJ'] = np.sqrt(self.df['YOJ'])\n",
    "\n",
    "\n",
    "    def clean(self, clf_derog=None, clf_delinq=None):\n",
    "        \n",
    "        self.fill_nan()\n",
    "        self.feature_engineering()\n",
    "\n",
    "        self.dummy_replace('REASON', prefix='Reason')\n",
    "        self.dummy_replace('JOB', prefix='Job')\n",
    "        \n",
    "        if self.predict_nan:\n",
    "            self.df, self.clf_derog = self.predict_na('DEROG', clf=clf_derog)\n",
    "            self.df, self.clf_delinq = self.predict_na('DELINQ', clf=clf_delinq)\n",
    "\n",
    "        return self.df\n"
   ]
  },
  {
   "cell_type": "code",
   "execution_count": 8,
   "metadata": {},
   "outputs": [],
   "source": [
    "# df_clean = DataCleaner(df).clean()\n",
    "# df_clean"
   ]
  },
  {
   "cell_type": "code",
   "execution_count": null,
   "metadata": {},
   "outputs": [],
   "source": []
  },
  {
   "cell_type": "code",
   "execution_count": 9,
   "metadata": {},
   "outputs": [],
   "source": [
    "# df_ = data_cleaning(df)"
   ]
  },
  {
   "cell_type": "code",
   "execution_count": 10,
   "metadata": {},
   "outputs": [],
   "source": [
    "# df_.head(5)"
   ]
  },
  {
   "cell_type": "code",
   "execution_count": 11,
   "metadata": {},
   "outputs": [],
   "source": [
    "import random\n",
    "\n",
    "class EnsembleModel():\n",
    "    \n",
    "    def __init__(self, solver='lbfgs', random_state=42, test_size=0.33, sample_frac=0.8, rounds=100,\n",
    "                row_sampling=True, max_iter=100, predict_nan=True):\n",
    "        \n",
    "        self.solver = solver\n",
    "        self.random_state = random_state\n",
    "        self.test_size = test_size\n",
    "        self.sample_frac = sample_frac\n",
    "        self.rounds = rounds\n",
    "        self.max_iter = max_iter\n",
    "        self.row_sampling = row_sampling\n",
    "        self.predict_nan = predict_nan\n",
    "        \n",
    "        random.seed(self.random_state)\n",
    "    \n",
    "    \n",
    "    def sample_rows(self, X, y, random_state):\n",
    "        \n",
    "        no_sample_rows = int(self.rows * self.sample_frac)\n",
    "        row_indices = list(range(self.rows))\n",
    "        \n",
    "        X_rows = random.choices(row_indices, k=no_sample_rows)\n",
    "        X_sample = np.zeros((no_sample_rows,X.shape[1]))\n",
    "        y_sample = np.zeros((no_sample_rows,))\n",
    "        \n",
    "        for i, row in enumerate(X_rows):\n",
    "            X_sample[i,:] = X[row,:]\n",
    "            y_sample[i] = y[row]\n",
    "            \n",
    "        return X_sample, y_sample\n",
    "        \n",
    "    \n",
    "    def sample_columns(self, X, y, random_state):\n",
    "        \n",
    "        random.seed(random_state)\n",
    "        \n",
    "        no_sample_cols = int(self.cols * self.sample_frac)\n",
    "        column_indices = list(range(self.cols))\n",
    "        \n",
    "        X_cols = random.sample(column_indices, no_sample_cols)\n",
    "        X_sample = X[:, X_cols]\n",
    "        \n",
    "        if self.row_sampling == True:\n",
    "            X_sample, y_sample = self.sample_rows(X_sample, y, random_state)\n",
    "        else:\n",
    "            y_sample = y\n",
    "\n",
    "        return X_sample, y_sample, X_cols\n",
    "    \n",
    "        \n",
    "    \n",
    "    def fit(self, X, y):\n",
    "        \n",
    "        self.rows = X.shape[0]\n",
    "        self.cols = X.shape[1]\n",
    "        \n",
    "        X = X.values\n",
    "        y = y.values\n",
    "        \n",
    "        self.__clf_dict = {}\n",
    "        \n",
    "        for i in range(self.rounds):\n",
    "            X_sample, y_sample, X_cols = self.sample_columns(X, y,random_state=i)\n",
    "            \n",
    "            clf = LogisticRegression(solver=self.solver, random_state=self.random_state, \n",
    "                                     max_iter=self.max_iter)\n",
    "            clf.fit(X_sample, y_sample)\n",
    "            self.__clf_dict[i] = [clf, X_cols]\n",
    "        \n",
    "        return None\n",
    "    \n",
    "    \n",
    "    def predict(self, X):\n",
    "        \n",
    "        X = X.values        \n",
    "        y_pred_mat = np.zeros((len(X), self.rounds))\n",
    "        \n",
    "        for key, value in self.__clf_dict.items():\n",
    "            model = value[0]\n",
    "            cols = value[1]\n",
    "            y_pred_mat[:,key] = model.predict(X[:,cols])\n",
    "            \n",
    "        y_pred = np.mean(y_pred_mat, axis=1)\n",
    "        \n",
    "        return y_pred, y_pred_mat"
   ]
  },
  {
   "cell_type": "code",
   "execution_count": 12,
   "metadata": {},
   "outputs": [
    {
     "name": "stderr",
     "output_type": "stream",
     "text": [
      "C:\\Users\\srema\\AppData\\Local\\Continuum\\anaconda3\\lib\\site-packages\\sklearn\\utils\\deprecation.py:144: FutureWarning: The sklearn.utils.testing module is  deprecated in version 0.22 and will be removed in version 0.24. The corresponding classes / functions should instead be imported from sklearn.utils. Anything that cannot be imported from sklearn.utils is now part of the private API.\n",
      "  warnings.warn(message, FutureWarning)\n"
     ]
    }
   ],
   "source": [
    "from sklearn.utils.testing import ignore_warnings\n",
    "from sklearn.exceptions import ConvergenceWarning\n",
    "\n",
    "from sklearn.metrics import accuracy_score\n",
    "from sklearn.metrics import f1_score\n",
    "from sklearn.metrics import precision_score\n",
    "from sklearn.metrics import recall_score\n",
    "\n",
    "class ModelPipeline():\n",
    "    \n",
    "    def __init__(self, df, test_size=0.33, random_state=42, row_sampling=True,\n",
    "                rounds=250, max_iter=100, simple_model=False, mean_model=False,\n",
    "                cutoff=0, model_name=None, solver='lbfgs', predict_nan=True):\n",
    "        \n",
    "        self.df = df\n",
    "        self.test_size = test_size\n",
    "        self.random_state = random_state\n",
    "        self.row_sampling = row_sampling\n",
    "        self.rounds = rounds\n",
    "        self.max_iter = max_iter\n",
    "        self.simple_model = simple_model\n",
    "        self.mean_model = mean_model\n",
    "        self.cutoff = cutoff\n",
    "        self.model_name = model_name\n",
    "        self.solver = solver\n",
    "        self.predict_nan = predict_nan\n",
    "        \n",
    "        \n",
    "    def probabilities_to_int(self, y_pred):\n",
    "\n",
    "        for i in range(len(y_pred)):\n",
    "            if y_pred[i] > self.cutoff:\n",
    "                y_pred[i] = 1\n",
    "            else:\n",
    "                y_pred[i] = 0\n",
    "    \n",
    "        return y_pred.astype(int)\n",
    "    \n",
    "        \n",
    "    @ignore_warnings(category=ConvergenceWarning)\n",
    "    def fit_transform(self):\n",
    "        \n",
    "        self.df = DataCleaner(self.df, predict_nan=self.predict_nan).clean()\n",
    "        \n",
    "        X = self.df.drop(['BAD'], axis=1)\n",
    "        y = self.df['BAD']\n",
    "\n",
    "        self.X_train, self.X_test, self.y_train, self.y_test = train_test_split(X, y, test_size=self.test_size, \n",
    "                                                            random_state=self.random_state)\n",
    "\n",
    "        if self.simple_model:\n",
    "            self.simp = LogisticRegression(random_state=42)\n",
    "            self.simp.fit(self.X_train, self.y_train)\n",
    "            self.prediction = self.simp.predict(self.X_test)\n",
    "            \n",
    "        else:            \n",
    "            self.ens = EnsembleModel(row_sampling=self.row_sampling, random_state=self.random_state, \n",
    "                                rounds=self.rounds, max_iter=self.max_iter, solver=self.solver)\n",
    "            self.ens.fit(self.X_train, self.y_train)            \n",
    "            self.y_pred, y_pred_mat =  self.ens.predict(self.X_test)\n",
    "            \n",
    "            if self.mean_model:\n",
    "                self.prediction = self.probabilities_to_int(self.y_pred)\n",
    "            \n",
    "            else:\n",
    "                self.lr_pred = LogisticRegression(random_state=42, solver=self.solver)\n",
    "                self.lr_pred.fit(y_pred_mat, self.y_test)\n",
    "                self.prediction = self.lr_pred.predict(y_pred_mat)\n",
    "\n",
    "    \n",
    "    def generate_model_name(self):\n",
    "        \n",
    "        if self.simple_model:\n",
    "            self.model_name = \"Simple Logit model\"\n",
    "        elif self.mean_model:\n",
    "            self.model_name = \"Ensemble model with mean prediction\"\n",
    "        else:\n",
    "            self.model_name = \"Ensemble model with modelled prediction\"\n",
    "    \n",
    "    \n",
    "    def print_model_performance(self):\n",
    "        \n",
    "        if self.model_name == None:\n",
    "            self.generate_model_name()\n",
    "    \n",
    "        print('Model:', self.model_name)\n",
    "        print('Accuracy score:', accuracy_score(self.y_test, self.prediction))\n",
    "        print('F1 score:', f1_score(self.y_test, self.prediction))\n",
    "        print('Precision score:', precision_score(self.y_test, self.prediction))\n",
    "        print('Recall score:', recall_score(self.y_test, self.prediction))"
   ]
  },
  {
   "cell_type": "code",
   "execution_count": 13,
   "metadata": {},
   "outputs": [
    {
     "name": "stderr",
     "output_type": "stream",
     "text": [
      "C:\\Users\\srema\\AppData\\Local\\Continuum\\anaconda3\\lib\\site-packages\\ipykernel_launcher.py:37: SettingWithCopyWarning: \n",
      "A value is trying to be set on a copy of a slice from a DataFrame.\n",
      "Try using .loc[row_indexer,col_indexer] = value instead\n",
      "\n",
      "See the caveats in the documentation: https://pandas.pydata.org/pandas-docs/stable/user_guide/indexing.html#returning-a-view-versus-a-copy\n"
     ]
    },
    {
     "name": "stdout",
     "output_type": "stream",
     "text": [
      "Model: Simple model, nan prediction, row sampling\n",
      "Accuracy score: 0.8464667005592272\n",
      "F1 score: 0.4548736462093863\n",
      "Precision score: 0.6961325966850829\n",
      "Recall score: 0.3378016085790885\n"
     ]
    },
    {
     "name": "stderr",
     "output_type": "stream",
     "text": [
      "C:\\Users\\srema\\AppData\\Local\\Continuum\\anaconda3\\lib\\site-packages\\ipykernel_launcher.py:37: SettingWithCopyWarning: \n",
      "A value is trying to be set on a copy of a slice from a DataFrame.\n",
      "Try using .loc[row_indexer,col_indexer] = value instead\n",
      "\n",
      "See the caveats in the documentation: https://pandas.pydata.org/pandas-docs/stable/user_guide/indexing.html#returning-a-view-versus-a-copy\n"
     ]
    }
   ],
   "source": [
    "pipe = ModelPipeline(df, simple_model=True, predict_nan=True, row_sampling=True, \n",
    "                     model_name='Simple model, nan prediction, row sampling')\n",
    "pipe.fit_transform()\n",
    "pipe.print_model_performance()"
   ]
  },
  {
   "cell_type": "code",
   "execution_count": 14,
   "metadata": {},
   "outputs": [
    {
     "name": "stdout",
     "output_type": "stream",
     "text": [
      "Model: Simple model, no nan prediction, row sampling\n",
      "Accuracy score: 0.8230808337569904\n",
      "F1 score: 0.4423076923076923\n",
      "Precision score: 0.71875\n",
      "Recall score: 0.3194444444444444\n"
     ]
    }
   ],
   "source": [
    "pipe = ModelPipeline(df, simple_model=True, predict_nan=False, row_sampling=True, \n",
    "                     model_name='Simple model, no nan prediction, row sampling')\n",
    "pipe.fit_transform()\n",
    "pipe.print_model_performance()"
   ]
  },
  {
   "cell_type": "code",
   "execution_count": 15,
   "metadata": {},
   "outputs": [
    {
     "name": "stderr",
     "output_type": "stream",
     "text": [
      "C:\\Users\\srema\\AppData\\Local\\Continuum\\anaconda3\\lib\\site-packages\\ipykernel_launcher.py:37: SettingWithCopyWarning: \n",
      "A value is trying to be set on a copy of a slice from a DataFrame.\n",
      "Try using .loc[row_indexer,col_indexer] = value instead\n",
      "\n",
      "See the caveats in the documentation: https://pandas.pydata.org/pandas-docs/stable/user_guide/indexing.html#returning-a-view-versus-a-copy\n"
     ]
    },
    {
     "name": "stdout",
     "output_type": "stream",
     "text": [
      "Model: Simple model, nan prediction, no row sampling\n",
      "Accuracy score: 0.8464667005592272\n",
      "F1 score: 0.4548736462093863\n",
      "Precision score: 0.6961325966850829\n",
      "Recall score: 0.3378016085790885\n"
     ]
    },
    {
     "name": "stderr",
     "output_type": "stream",
     "text": [
      "C:\\Users\\srema\\AppData\\Local\\Continuum\\anaconda3\\lib\\site-packages\\ipykernel_launcher.py:37: SettingWithCopyWarning: \n",
      "A value is trying to be set on a copy of a slice from a DataFrame.\n",
      "Try using .loc[row_indexer,col_indexer] = value instead\n",
      "\n",
      "See the caveats in the documentation: https://pandas.pydata.org/pandas-docs/stable/user_guide/indexing.html#returning-a-view-versus-a-copy\n"
     ]
    }
   ],
   "source": [
    "pipe = ModelPipeline(df, simple_model=True, predict_nan=True, row_sampling=False, \n",
    "                     model_name='Simple model, nan prediction, no row sampling')\n",
    "pipe.fit_transform()\n",
    "pipe.print_model_performance()"
   ]
  },
  {
   "cell_type": "code",
   "execution_count": 16,
   "metadata": {},
   "outputs": [
    {
     "name": "stdout",
     "output_type": "stream",
     "text": [
      "Model: Simple model, no nan prediction, no row sampling\n",
      "Accuracy score: 0.8230808337569904\n",
      "F1 score: 0.4423076923076923\n",
      "Precision score: 0.71875\n",
      "Recall score: 0.3194444444444444\n"
     ]
    }
   ],
   "source": [
    "pipe = ModelPipeline(df, simple_model=True, predict_nan=False, row_sampling=False, \n",
    "                     model_name='Simple model, no nan prediction, no row sampling')\n",
    "pipe.fit_transform()\n",
    "pipe.print_model_performance()"
   ]
  },
  {
   "cell_type": "code",
   "execution_count": 17,
   "metadata": {},
   "outputs": [
    {
     "name": "stderr",
     "output_type": "stream",
     "text": [
      "C:\\Users\\srema\\AppData\\Local\\Continuum\\anaconda3\\lib\\site-packages\\ipykernel_launcher.py:37: SettingWithCopyWarning: \n",
      "A value is trying to be set on a copy of a slice from a DataFrame.\n",
      "Try using .loc[row_indexer,col_indexer] = value instead\n",
      "\n",
      "See the caveats in the documentation: https://pandas.pydata.org/pandas-docs/stable/user_guide/indexing.html#returning-a-view-versus-a-copy\n",
      "C:\\Users\\srema\\AppData\\Local\\Continuum\\anaconda3\\lib\\site-packages\\ipykernel_launcher.py:37: SettingWithCopyWarning: \n",
      "A value is trying to be set on a copy of a slice from a DataFrame.\n",
      "Try using .loc[row_indexer,col_indexer] = value instead\n",
      "\n",
      "See the caveats in the documentation: https://pandas.pydata.org/pandas-docs/stable/user_guide/indexing.html#returning-a-view-versus-a-copy\n"
     ]
    },
    {
     "name": "stdout",
     "output_type": "stream",
     "text": [
      "Model: Mean model, nan prediction, row sampling\n",
      "Accuracy score: 0.8149466192170819\n",
      "F1 score: 0.539240506329114\n",
      "Precision score: 0.5107913669064749\n",
      "Recall score: 0.5710455764075067\n"
     ]
    }
   ],
   "source": [
    "pipe = ModelPipeline(df, mean_model=True, predict_nan=True, row_sampling=True, \n",
    "                     model_name='Mean model, nan prediction, row sampling')\n",
    "pipe.fit_transform()\n",
    "pipe.print_model_performance()"
   ]
  },
  {
   "cell_type": "code",
   "execution_count": 18,
   "metadata": {},
   "outputs": [
    {
     "name": "stdout",
     "output_type": "stream",
     "text": [
      "Model: Mean model, no nan prediction, row sampling\n",
      "Accuracy score: 0.7966446365022878\n",
      "F1 score: 0.522673031026253\n",
      "Precision score: 0.5394088669950738\n",
      "Recall score: 0.5069444444444444\n"
     ]
    }
   ],
   "source": [
    "pipe = ModelPipeline(df, mean_model=True, predict_nan=False, row_sampling=True, \n",
    "                     model_name='Mean model, no nan prediction, row sampling')\n",
    "pipe.fit_transform()\n",
    "pipe.print_model_performance()"
   ]
  },
  {
   "cell_type": "code",
   "execution_count": 19,
   "metadata": {},
   "outputs": [
    {
     "name": "stderr",
     "output_type": "stream",
     "text": [
      "C:\\Users\\srema\\AppData\\Local\\Continuum\\anaconda3\\lib\\site-packages\\ipykernel_launcher.py:37: SettingWithCopyWarning: \n",
      "A value is trying to be set on a copy of a slice from a DataFrame.\n",
      "Try using .loc[row_indexer,col_indexer] = value instead\n",
      "\n",
      "See the caveats in the documentation: https://pandas.pydata.org/pandas-docs/stable/user_guide/indexing.html#returning-a-view-versus-a-copy\n",
      "C:\\Users\\srema\\AppData\\Local\\Continuum\\anaconda3\\lib\\site-packages\\ipykernel_launcher.py:37: SettingWithCopyWarning: \n",
      "A value is trying to be set on a copy of a slice from a DataFrame.\n",
      "Try using .loc[row_indexer,col_indexer] = value instead\n",
      "\n",
      "See the caveats in the documentation: https://pandas.pydata.org/pandas-docs/stable/user_guide/indexing.html#returning-a-view-versus-a-copy\n"
     ]
    },
    {
     "name": "stdout",
     "output_type": "stream",
     "text": [
      "Model: Mean model, nan prediction, no row sampling\n",
      "Accuracy score: 0.8235892221657346\n",
      "F1 score: 0.5213793103448277\n",
      "Precision score: 0.5369318181818182\n",
      "Recall score: 0.5067024128686327\n"
     ]
    }
   ],
   "source": [
    "pipe = ModelPipeline(df, mean_model=True, predict_nan=True, row_sampling=False, \n",
    "                     model_name='Mean model, nan prediction, no row sampling')\n",
    "pipe.fit_transform()\n",
    "pipe.print_model_performance()"
   ]
  },
  {
   "cell_type": "code",
   "execution_count": 20,
   "metadata": {},
   "outputs": [
    {
     "name": "stdout",
     "output_type": "stream",
     "text": [
      "Model: Mean model, no nan prediction, no row sampling\n",
      "Accuracy score: 0.809862735129639\n",
      "F1 score: 0.5205128205128206\n",
      "Precision score: 0.5833333333333334\n",
      "Recall score: 0.4699074074074074\n"
     ]
    }
   ],
   "source": [
    "pipe = ModelPipeline(df, mean_model=True, predict_nan=False, row_sampling=False, \n",
    "                     model_name='Mean model, no nan prediction, no row sampling')\n",
    "pipe.fit_transform()\n",
    "pipe.print_model_performance()"
   ]
  },
  {
   "cell_type": "code",
   "execution_count": 21,
   "metadata": {},
   "outputs": [
    {
     "name": "stderr",
     "output_type": "stream",
     "text": [
      "C:\\Users\\srema\\AppData\\Local\\Continuum\\anaconda3\\lib\\site-packages\\ipykernel_launcher.py:37: SettingWithCopyWarning: \n",
      "A value is trying to be set on a copy of a slice from a DataFrame.\n",
      "Try using .loc[row_indexer,col_indexer] = value instead\n",
      "\n",
      "See the caveats in the documentation: https://pandas.pydata.org/pandas-docs/stable/user_guide/indexing.html#returning-a-view-versus-a-copy\n",
      "C:\\Users\\srema\\AppData\\Local\\Continuum\\anaconda3\\lib\\site-packages\\ipykernel_launcher.py:37: SettingWithCopyWarning: \n",
      "A value is trying to be set on a copy of a slice from a DataFrame.\n",
      "Try using .loc[row_indexer,col_indexer] = value instead\n",
      "\n",
      "See the caveats in the documentation: https://pandas.pydata.org/pandas-docs/stable/user_guide/indexing.html#returning-a-view-versus-a-copy\n"
     ]
    },
    {
     "name": "stdout",
     "output_type": "stream",
     "text": [
      "Model: Prediction model, nan prediction, row sampling\n",
      "Accuracy score: 0.8937468225724453\n",
      "F1 score: 0.6313932980599648\n",
      "Precision score: 0.9226804123711341\n",
      "Recall score: 0.47989276139410186\n"
     ]
    }
   ],
   "source": [
    "pipe = ModelPipeline(df, mean_model=False, predict_nan=True, row_sampling=True, \n",
    "                     model_name='Prediction model, nan prediction, row sampling')\n",
    "pipe.fit_transform()\n",
    "pipe.print_model_performance()"
   ]
  },
  {
   "cell_type": "code",
   "execution_count": 22,
   "metadata": {},
   "outputs": [
    {
     "name": "stdout",
     "output_type": "stream",
     "text": [
      "Model: Prediction model, no nan prediction, row sampling\n",
      "Accuracy score: 0.8734112862226742\n",
      "F1 score: 0.609105180533752\n",
      "Precision score: 0.9463414634146341\n",
      "Recall score: 0.44907407407407407\n"
     ]
    }
   ],
   "source": [
    "pipe = ModelPipeline(df, mean_model=False, predict_nan=False, row_sampling=True, \n",
    "                     model_name='Prediction model, no nan prediction, row sampling')\n",
    "pipe.fit_transform()\n",
    "pipe.print_model_performance()"
   ]
  },
  {
   "cell_type": "code",
   "execution_count": 23,
   "metadata": {},
   "outputs": [
    {
     "name": "stderr",
     "output_type": "stream",
     "text": [
      "C:\\Users\\srema\\AppData\\Local\\Continuum\\anaconda3\\lib\\site-packages\\ipykernel_launcher.py:37: SettingWithCopyWarning: \n",
      "A value is trying to be set on a copy of a slice from a DataFrame.\n",
      "Try using .loc[row_indexer,col_indexer] = value instead\n",
      "\n",
      "See the caveats in the documentation: https://pandas.pydata.org/pandas-docs/stable/user_guide/indexing.html#returning-a-view-versus-a-copy\n",
      "C:\\Users\\srema\\AppData\\Local\\Continuum\\anaconda3\\lib\\site-packages\\ipykernel_launcher.py:37: SettingWithCopyWarning: \n",
      "A value is trying to be set on a copy of a slice from a DataFrame.\n",
      "Try using .loc[row_indexer,col_indexer] = value instead\n",
      "\n",
      "See the caveats in the documentation: https://pandas.pydata.org/pandas-docs/stable/user_guide/indexing.html#returning-a-view-versus-a-copy\n"
     ]
    },
    {
     "name": "stdout",
     "output_type": "stream",
     "text": [
      "Model: Prediction model, nan prediction, no row sampling\n",
      "Accuracy score: 0.884087442806304\n",
      "F1 score: 0.5957446808510638\n",
      "Precision score: 0.8795811518324608\n",
      "Recall score: 0.450402144772118\n"
     ]
    }
   ],
   "source": [
    "pipe = ModelPipeline(df, mean_model=False, predict_nan=True, row_sampling=False, \n",
    "                     model_name='Prediction model, nan prediction, no row sampling')\n",
    "pipe.fit_transform()\n",
    "pipe.print_model_performance()"
   ]
  },
  {
   "cell_type": "code",
   "execution_count": 24,
   "metadata": {},
   "outputs": [
    {
     "name": "stdout",
     "output_type": "stream",
     "text": [
      "Model: Prediction model, no nan prediction, no row sampling\n",
      "Accuracy score: 0.85866802236909\n",
      "F1 score: 0.5472312703583062\n",
      "Precision score: 0.9230769230769231\n",
      "Recall score: 0.3888888888888889\n"
     ]
    }
   ],
   "source": [
    "pipe = ModelPipeline(df, mean_model=False, predict_nan=False, row_sampling=False, \n",
    "                     model_name='Prediction model, no nan prediction, no row sampling')\n",
    "pipe.fit_transform()\n",
    "pipe.print_model_performance()"
   ]
  },
  {
   "cell_type": "code",
   "execution_count": null,
   "metadata": {},
   "outputs": [],
   "source": []
  },
  {
   "cell_type": "code",
   "execution_count": null,
   "metadata": {},
   "outputs": [],
   "source": []
  },
  {
   "cell_type": "code",
   "execution_count": null,
   "metadata": {},
   "outputs": [],
   "source": []
  },
  {
   "cell_type": "code",
   "execution_count": null,
   "metadata": {},
   "outputs": [],
   "source": []
  }
 ],
 "metadata": {
  "kernelspec": {
   "display_name": "Python 3",
   "language": "python",
   "name": "python3"
  },
  "language_info": {
   "codemirror_mode": {
    "name": "ipython",
    "version": 3
   },
   "file_extension": ".py",
   "mimetype": "text/x-python",
   "name": "python",
   "nbconvert_exporter": "python",
   "pygments_lexer": "ipython3",
   "version": "3.7.3"
  }
 },
 "nbformat": 4,
 "nbformat_minor": 2
}
